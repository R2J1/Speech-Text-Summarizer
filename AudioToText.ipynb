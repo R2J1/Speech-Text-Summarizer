{
 "cells": [
  {
   "cell_type": "code",
   "execution_count": 24,
   "metadata": {},
   "outputs": [
    {
     "name": "stdout",
     "output_type": "stream",
     "text": [
      "Transcript saved to transcript.txt\n"
     ]
    }
   ],
   "source": [
    "import assemblyai as aai\n",
    "\n",
    "# Replace with your API key\n",
    "aai.settings.api_key = \"133854230e3142fb8c59c19c429dd3a5\"\n",
    "\n",
    "# URL of the file to transcribe\n",
    "FILE_URL = \"1111.m4a\"\n",
    "\n",
    "# You can also transcribe a local file by passing in a file path\n",
    "# FILE_URL = './path/to/file.mp3'\n",
    "\n",
    "transcriber = aai.Transcriber()\n",
    "transcript = transcriber.transcribe(FILE_URL)\n",
    "\n",
    "if transcript.status == aai.TranscriptStatus.error:\n",
    "    print(transcript.error)\n",
    "else:\n",
    "    # Save transcript to a text file\n",
    "    with open(\"transcript.txt\", \"w\") as text_file:\n",
    "        text_file.write(transcript.text)\n",
    "    print(\"Transcript saved to transcript.txt\")\n"
   ]
  }
 ],
 "metadata": {
  "kernelspec": {
   "display_name": "Python 3",
   "language": "python",
   "name": "python3"
  },
  "language_info": {
   "codemirror_mode": {
    "name": "ipython",
    "version": 3
   },
   "file_extension": ".py",
   "mimetype": "text/x-python",
   "name": "python",
   "nbconvert_exporter": "python",
   "pygments_lexer": "ipython3",
   "version": "3.12.1"
  }
 },
 "nbformat": 4,
 "nbformat_minor": 2
}
